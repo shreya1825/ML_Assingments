{
 "cells": [
  {
   "cell_type": "code",
   "execution_count": 1,
   "metadata": {},
   "outputs": [
    {
     "name": "stdout",
     "output_type": "stream",
     "text": [
      "Enter the  probability of a11/36\n",
      "Enter the probability of b6/36\n",
      "Enter the probability of a_b2/36\n",
      "1/33\n"
     ]
    }
   ],
   "source": [
    "#Question_1\n",
    "from fractions import Fraction as f\n",
    "def bayes(a,b,a_b):\n",
    "    return (a_b*b)/a\n",
    "a=f(input(\"Enter the  probability of a\"))\n",
    "b=f(input(\"Enter the probability of b\"))\n",
    "a_b=f(input(\"Enter the probability of a_b\"))\n",
    "print(bayes(a,b,a_b))"
   ]
  },
  {
   "cell_type": "code",
   "execution_count": 2,
   "metadata": {},
   "outputs": [
    {
     "name": "stdout",
     "output_type": "stream",
     "text": [
      "enter total no  of white  balls in  bag 1:4\n",
      "enter total no  of white  balls in  bag 2:4\n",
      "enter total no  of black  balls in  bag 1:3\n",
      "enter total no  of black  balls in  bag 1:6\n",
      "0.5833333333333334\n"
     ]
    }
   ],
   "source": [
    "#Question 2\n",
    "from fractions import Fraction as f\n",
    "b1w=int(input(\"enter total no  of white  balls in  bag 1:\"))\n",
    "b2w=int(input(\"enter total no  of white  balls in  bag 2:\"))\n",
    "b1b=int(input(\"enter total no  of black  balls in  bag 1:\"))\n",
    "b2b=int(input(\"enter total no  of black  balls in  bag 1:\"))\n",
    "p1=(b1b/(b1w+b1b))\n",
    "p2=(b2b/(b2w+b2b))\n",
    "p_bag=f(1/2)\n",
    "c=((p_bag*p2)/((p_bag*p1)+(p_bag*p2)))\n",
    "\n",
    "print(c)"
   ]
  },
  {
   "cell_type": "code",
   "execution_count": 7,
   "metadata": {},
   "outputs": [
    {
     "name": "stdout",
     "output_type": "stream",
     "text": [
      "enter total no  cases when person lies truth:2\n",
      "enter total no of time a person speak:3\n",
      "3002399751580331/9007199254740992\n"
     ]
    }
   ],
   "source": [
    "#Question 3\n",
    "from fractions import Fraction as f\n",
    "p1=int(input(\"enter total no  cases when person lies truth:\"))\n",
    "t=int(input(\"enter total no of time a person speak:\"))\n",
    "p4=f(1/6)\n",
    "notp4=f(1-1/6)\n",
    "c=f(p1/t)\n",
    "d=f(1-c)\n",
    "a=f((p4*c)/((p4*c)+(notp4*d)))\n",
    "print(d)\n"
   ]
  },
  {
   "cell_type": "code",
   "execution_count": null,
   "metadata": {},
   "outputs": [],
   "source": []
  },
  {
   "cell_type": "code",
   "execution_count": null,
   "metadata": {},
   "outputs": [],
   "source": []
  }
 ],
 "metadata": {
  "kernelspec": {
   "display_name": "Python 3",
   "language": "python",
   "name": "python3"
  },
  "language_info": {
   "codemirror_mode": {
    "name": "ipython",
    "version": 3
   },
   "file_extension": ".py",
   "mimetype": "text/x-python",
   "name": "python",
   "nbconvert_exporter": "python",
   "pygments_lexer": "ipython3",
   "version": "3.6.5"
  }
 },
 "nbformat": 4,
 "nbformat_minor": 2
}
